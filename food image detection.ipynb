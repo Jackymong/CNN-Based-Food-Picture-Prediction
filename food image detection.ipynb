{
 "cells": [
  {
   "cell_type": "code",
   "execution_count": 1,
   "id": "61ffa35f-b075-4a67-8961-df7af83712c9",
   "metadata": {},
   "outputs": [],
   "source": [
    "import numpy as np  # Numerical Analysis\n",
    "import os # operating Systems\n",
    "from PIL import Image, ImageTk\n",
    "from io import BytesIO"
   ]
  },
  {
   "cell_type": "code",
   "execution_count": 2,
   "id": "f05e45a3-9d6c-419b-b335-127e03dda6e7",
   "metadata": {},
   "outputs": [],
   "source": [
    "import requests\n",
    "from tkinter import Tk, Label, Canvas, Entry, Button, NW"
   ]
  },
  {
   "cell_type": "code",
   "execution_count": 3,
   "id": "c98b5e25-8551-4758-9cfe-92c2e9a0471f",
   "metadata": {},
   "outputs": [],
   "source": [
    "from keras.models import Sequential, load_model\n",
    "from keras.layers import Dense, MaxPooling2D, Flatten, Conv2D#Input, Hidden, Output Node\n",
    "from keras.preprocessing.image import ImageDataGenerator, load_img, img_to_array\n",
    "from keras.preprocessing import image as img_utils"
   ]
  },
  {
   "cell_type": "code",
   "execution_count": 4,
   "id": "dcf13436-3483-46a1-8eaa-2f1e20b8f503",
   "metadata": {},
   "outputs": [],
   "source": [
    "model = Sequential()\n",
    "#Input Layer\n",
    "model.add(Conv2D(32, (3, 3), input_shape = (128, 128, 3), activation = 'relu'))\n",
    "model.add(MaxPooling2D(pool_size = (2, 2)))\n",
    "\n",
    "# 1st Hidden Layer\n",
    "model.add(Conv2D(64, (3, 3), activation = 'relu'))\n",
    "model.add(MaxPooling2D(pool_size = (2, 2)))\n",
    "\n",
    "# 2nd Hidden Layer\n",
    "model.add(Conv2D(128, (3, 3), activation = 'relu'))\n",
    "model.add(MaxPooling2D(pool_size = (2, 2)))\n",
    "\n",
    "# Bridge Layer\n",
    "model.add(Flatten())\n",
    "\n",
    "#Output Layer\n",
    "model.add(Dense(128, activation = 'relu'))\n",
    "model.add(Dense(3, activation = 'softmax'))"
   ]
  },
  {
   "cell_type": "code",
   "execution_count": 5,
   "id": "2523c0c5-a14d-40cd-884c-bdd4ae2cf74d",
   "metadata": {},
   "outputs": [],
   "source": [
    "model.compile(optimizer='adam',\n",
    "             loss = 'categorical_crossentropy',\n",
    "             metrics = ['accuracy'])"
   ]
  },
  {
   "cell_type": "code",
   "execution_count": 6,
   "id": "7844d7e1-f63d-40a6-a721-c5767a132abc",
   "metadata": {},
   "outputs": [],
   "source": [
    "train_datagenerator = ImageDataGenerator(rescale = 1.0/255.0,\n",
    "                                        shear_range = 0.2,\n",
    "                                        zoom_range = 0.2,\n",
    "                                        horizontal_flip = True)"
   ]
  },
  {
   "cell_type": "code",
   "execution_count": 7,
   "id": "72a5d392-e499-4bbc-83ae-c0c9e74b2800",
   "metadata": {},
   "outputs": [],
   "source": [
    "test_datagenerator = ImageDataGenerator(rescale=1.0/255.0)"
   ]
  },
  {
   "cell_type": "code",
   "execution_count": 8,
   "id": "585dcd74-b169-45a6-af61-4ad9049ac07e",
   "metadata": {},
   "outputs": [
    {
     "name": "stdout",
     "output_type": "stream",
     "text": [
      "Found 2401 images belonging to 3 classes.\n",
      "Found 600 images belonging to 3 classes.\n"
     ]
    }
   ],
   "source": [
    "training_datasets = train_datagenerator.flow_from_directory(\"C:/Users/Jacky Mong Marma/Desktop/food detection/datasets/training_set/\", target_size= (128, 128), batch_size = 16, class_mode = \"categorical\")\n",
    "training_datasets = train_datagenerator.flow_from_directory(\"C:/Users/Jacky Mong Marma/Desktop/food detection/datasets/test_set/\", target_size= (128, 128), batch_size = 16, class_mode = \"categorical\")"
   ]
  },
  {
   "cell_type": "code",
   "execution_count": 9,
   "id": "53cfd9e1-bd28-4539-9d78-c6bc2cd67a05",
   "metadata": {},
   "outputs": [
    {
     "name": "stdout",
     "output_type": "stream",
     "text": [
      "Epoch 1/30\n",
      "25/25 [==============================] - 15s 582ms/step - loss: 1.1789 - accuracy: 0.3407\n",
      "Epoch 2/30\n",
      "25/25 [==============================] - 15s 595ms/step - loss: 1.0861 - accuracy: 0.3894\n",
      "Epoch 3/30\n",
      "25/25 [==============================] - 15s 593ms/step - loss: 1.0627 - accuracy: 0.4730\n",
      "Epoch 4/30\n",
      "25/25 [==============================] - 15s 590ms/step - loss: 1.0332 - accuracy: 0.4485\n",
      "Epoch 5/30\n",
      "25/25 [==============================] - 15s 599ms/step - loss: 0.9070 - accuracy: 0.5601\n",
      "Epoch 6/30\n",
      "25/25 [==============================] - 15s 588ms/step - loss: 0.9157 - accuracy: 0.5833\n",
      "Epoch 7/30\n",
      "25/25 [==============================] - 15s 587ms/step - loss: 0.8797 - accuracy: 0.5907\n",
      "Epoch 8/30\n",
      "25/25 [==============================] - 15s 605ms/step - loss: 0.8474 - accuracy: 0.6322\n",
      "Epoch 9/30\n",
      "25/25 [==============================] - 15s 593ms/step - loss: 0.7763 - accuracy: 0.6373\n",
      "Epoch 10/30\n",
      "25/25 [==============================] - 15s 599ms/step - loss: 0.8090 - accuracy: 0.6250\n",
      "Epoch 11/30\n",
      "25/25 [==============================] - 15s 579ms/step - loss: 0.7260 - accuracy: 0.6740\n",
      "Epoch 12/30\n",
      "25/25 [==============================] - 15s 586ms/step - loss: 0.7128 - accuracy: 0.6667\n",
      "Epoch 13/30\n",
      "25/25 [==============================] - 15s 586ms/step - loss: 0.7034 - accuracy: 0.7377\n",
      "Epoch 14/30\n",
      "25/25 [==============================] - 15s 592ms/step - loss: 0.7099 - accuracy: 0.7091\n",
      "Epoch 15/30\n",
      "25/25 [==============================] - 15s 595ms/step - loss: 0.7527 - accuracy: 0.6635\n",
      "Epoch 16/30\n",
      "25/25 [==============================] - 16s 612ms/step - loss: 0.6446 - accuracy: 0.7284\n",
      "Epoch 17/30\n",
      "25/25 [==============================] - 15s 595ms/step - loss: 0.6391 - accuracy: 0.7377\n",
      "Epoch 18/30\n",
      "25/25 [==============================] - 15s 583ms/step - loss: 0.5458 - accuracy: 0.7794\n",
      "Epoch 19/30\n",
      "25/25 [==============================] - 15s 587ms/step - loss: 0.5610 - accuracy: 0.7426\n",
      "Epoch 20/30\n",
      "25/25 [==============================] - 15s 589ms/step - loss: 0.5384 - accuracy: 0.7672\n",
      "Epoch 21/30\n",
      "25/25 [==============================] - 15s 604ms/step - loss: 0.5066 - accuracy: 0.7837\n",
      "Epoch 22/30\n",
      "25/25 [==============================] - 15s 600ms/step - loss: 0.4722 - accuracy: 0.8029\n",
      "Epoch 23/30\n",
      "25/25 [==============================] - 15s 598ms/step - loss: 0.4505 - accuracy: 0.8186\n",
      "Epoch 24/30\n",
      "25/25 [==============================] - 15s 598ms/step - loss: 0.4055 - accuracy: 0.8510\n",
      "Epoch 25/30\n",
      "25/25 [==============================] - 15s 589ms/step - loss: 0.4260 - accuracy: 0.8382\n",
      "Epoch 26/30\n",
      "25/25 [==============================] - 15s 608ms/step - loss: 0.4420 - accuracy: 0.8125\n",
      "Epoch 27/30\n",
      "25/25 [==============================] - 15s 592ms/step - loss: 0.4805 - accuracy: 0.8029\n",
      "Epoch 28/30\n",
      "25/25 [==============================] - 15s 599ms/step - loss: 0.5283 - accuracy: 0.7909\n",
      "Epoch 29/30\n",
      "25/25 [==============================] - 15s 580ms/step - loss: 0.3679 - accuracy: 0.8407\n",
      "Epoch 30/30\n",
      "25/25 [==============================] - 15s 580ms/step - loss: 0.4004 - accuracy: 0.8529\n"
     ]
    },
    {
     "data": {
      "text/plain": [
       "<keras.callbacks.History at 0x21451869a30>"
      ]
     },
     "execution_count": 9,
     "metadata": {},
     "output_type": "execute_result"
    }
   ],
   "source": [
    "model.fit(training_datasets, steps_per_epoch= 801/32, epochs = 30, validation_steps=200/32)"
   ]
  },
  {
   "cell_type": "code",
   "execution_count": 10,
   "id": "37162b4b-46c2-4f85-869d-be600e9d4000",
   "metadata": {},
   "outputs": [],
   "source": [
    "model.save(\"Models/models.h5\")\n",
    "model.save_weights(\"Models/models_weight.h5\")"
   ]
  },
  {
   "cell_type": "code",
   "execution_count": 11,
   "id": "57fe6d41-6090-4ca1-bf02-1882819340b9",
   "metadata": {},
   "outputs": [],
   "source": [
    "image_height, image_weight = 128, 128\n",
    "models_locations = \"Models/models.h5\"\n",
    "models_weight_locations = \"Models/models_weight.h5\"\n",
    "\n",
    "final_model = load_model(models_locations)\n",
    "final_model.load_weights(models_weight_locations)"
   ]
  },
  {
   "cell_type": "code",
   "execution_count": 12,
   "id": "f43a1290-a419-42fe-a0f1-06a88c5bc85a",
   "metadata": {},
   "outputs": [],
   "source": [
    "url = '' # global Variable\n",
    "window = Tk()\n",
    "window.title(\"Image Classification With CNN\")\n",
    "window.geometry(\"800x800\")\n",
    "label = Label(window, text = \" Please Enter Your Coustom Image URL with the same Training image dot extension\", font = (\"Halvetica\", 16))\n",
    "label.pack()\n",
    "\n",
    "def Enter():\n",
    "    global url\n",
    "    label.configure()\n",
    "    url  = (User_input.get())\n",
    "    print(\" Here is your input url:\\n\", url)\n",
    "    \n",
    "    response = requests.get(url)\n",
    "    test_image = Image.open(BytesIO(response.content))\n",
    "    put_image = test_image.resize((80, 80))\n",
    "    test_image = test_image.resize((128, 128))\n",
    "    \n",
    "    img = ImageTk.PhotoImage(put_image)\n",
    "    pic = Label(image = img)\n",
    "    pic.pack()\n",
    "    \n",
    "    pic.image = img\n",
    "    test_image = img_utils.img_to_array(test_image)\n",
    "    test_image = np.expand_dims(test_image, axis=0)\n",
    "    \n",
    "    \n",
    "    results = model.predict_on_batch(test_image)\n",
    "    \n",
    "    if results[0][0] == 1:\n",
    "        res = \"French Fries\"\n",
    "    elif results[0][1] == 1:\n",
    "        res = \"Fizza\"\n",
    "    elif results[0][2] == 1:\n",
    "        res = \"Samossa\"\n",
    "    else:\n",
    "        res = \"Error\"\n",
    "        \n",
    "    output = Label(window, text = \"Predicted Class: \" + res, font = (\"Halvetica\", 16))\n",
    "    output.pack()"
   ]
  },
  {
   "cell_type": "code",
   "execution_count": 13,
   "id": "a509a966-b9ff-464d-aa87-2ead32333223",
   "metadata": {},
   "outputs": [
    {
     "name": "stdout",
     "output_type": "stream",
     "text": [
      " Here is your input url:\n",
      " https://upload.wikimedia.org/wikipedia/commons/a/a4/Pizza.jpg\n"
     ]
    },
    {
     "name": "stderr",
     "output_type": "stream",
     "text": [
      "Exception in Tkinter callback\n",
      "Traceback (most recent call last):\n",
      "  File \"C:\\Users\\Jacky Mong Marma\\Anaconda3\\envs\\machinelearning\\lib\\site-packages\\urllib3\\connection.py\", line 174, in _new_conn\n",
      "    conn = connection.create_connection(\n",
      "  File \"C:\\Users\\Jacky Mong Marma\\Anaconda3\\envs\\machinelearning\\lib\\site-packages\\urllib3\\util\\connection.py\", line 72, in create_connection\n",
      "    for res in socket.getaddrinfo(host, port, family, socket.SOCK_STREAM):\n",
      "  File \"C:\\Users\\Jacky Mong Marma\\Anaconda3\\envs\\machinelearning\\lib\\socket.py\", line 954, in getaddrinfo\n",
      "    for res in _socket.getaddrinfo(host, port, family, type, proto, flags):\n",
      "socket.gaierror: [Errno 11001] getaddrinfo failed\n",
      "\n",
      "During handling of the above exception, another exception occurred:\n",
      "\n",
      "Traceback (most recent call last):\n",
      "  File \"C:\\Users\\Jacky Mong Marma\\Anaconda3\\envs\\machinelearning\\lib\\site-packages\\urllib3\\connectionpool.py\", line 703, in urlopen\n",
      "    httplib_response = self._make_request(\n",
      "  File \"C:\\Users\\Jacky Mong Marma\\Anaconda3\\envs\\machinelearning\\lib\\site-packages\\urllib3\\connectionpool.py\", line 386, in _make_request\n",
      "    self._validate_conn(conn)\n",
      "  File \"C:\\Users\\Jacky Mong Marma\\Anaconda3\\envs\\machinelearning\\lib\\site-packages\\urllib3\\connectionpool.py\", line 1040, in _validate_conn\n",
      "    conn.connect()\n",
      "  File \"C:\\Users\\Jacky Mong Marma\\Anaconda3\\envs\\machinelearning\\lib\\site-packages\\urllib3\\connection.py\", line 358, in connect\n",
      "    self.sock = conn = self._new_conn()\n",
      "  File \"C:\\Users\\Jacky Mong Marma\\Anaconda3\\envs\\machinelearning\\lib\\site-packages\\urllib3\\connection.py\", line 186, in _new_conn\n",
      "    raise NewConnectionError(\n",
      "urllib3.exceptions.NewConnectionError: <urllib3.connection.HTTPSConnection object at 0x0000021451F13430>: Failed to establish a new connection: [Errno 11001] getaddrinfo failed\n",
      "\n",
      "During handling of the above exception, another exception occurred:\n",
      "\n",
      "Traceback (most recent call last):\n",
      "  File \"C:\\Users\\Jacky Mong Marma\\Anaconda3\\envs\\machinelearning\\lib\\site-packages\\requests\\adapters.py\", line 440, in send\n",
      "    resp = conn.urlopen(\n",
      "  File \"C:\\Users\\Jacky Mong Marma\\Anaconda3\\envs\\machinelearning\\lib\\site-packages\\urllib3\\connectionpool.py\", line 785, in urlopen\n",
      "    retries = retries.increment(\n",
      "  File \"C:\\Users\\Jacky Mong Marma\\Anaconda3\\envs\\machinelearning\\lib\\site-packages\\urllib3\\util\\retry.py\", line 592, in increment\n",
      "    raise MaxRetryError(_pool, url, error or ResponseError(cause))\n",
      "urllib3.exceptions.MaxRetryError: HTTPSConnectionPool(host='upload.wikimedia.org', port=443): Max retries exceeded with url: /wikipedia/commons/a/a4/Pizza.jpg (Caused by NewConnectionError('<urllib3.connection.HTTPSConnection object at 0x0000021451F13430>: Failed to establish a new connection: [Errno 11001] getaddrinfo failed'))\n",
      "\n",
      "During handling of the above exception, another exception occurred:\n",
      "\n",
      "Traceback (most recent call last):\n",
      "  File \"C:\\Users\\Jacky Mong Marma\\Anaconda3\\envs\\machinelearning\\lib\\tkinter\\__init__.py\", line 1892, in __call__\n",
      "    return self.func(*args)\n",
      "  File \"C:\\Users\\Jacky Mong Marma\\AppData\\Local\\Temp\\ipykernel_7176\\1932380643.py\", line 14, in Enter\n",
      "    response = requests.get(url)\n",
      "  File \"C:\\Users\\Jacky Mong Marma\\Anaconda3\\envs\\machinelearning\\lib\\site-packages\\requests\\api.py\", line 75, in get\n",
      "    return request('get', url, params=params, **kwargs)\n",
      "  File \"C:\\Users\\Jacky Mong Marma\\Anaconda3\\envs\\machinelearning\\lib\\site-packages\\requests\\api.py\", line 61, in request\n",
      "    return session.request(method=method, url=url, **kwargs)\n",
      "  File \"C:\\Users\\Jacky Mong Marma\\Anaconda3\\envs\\machinelearning\\lib\\site-packages\\requests\\sessions.py\", line 529, in request\n",
      "    resp = self.send(prep, **send_kwargs)\n",
      "  File \"C:\\Users\\Jacky Mong Marma\\Anaconda3\\envs\\machinelearning\\lib\\site-packages\\requests\\sessions.py\", line 645, in send\n",
      "    r = adapter.send(request, **kwargs)\n",
      "  File \"C:\\Users\\Jacky Mong Marma\\Anaconda3\\envs\\machinelearning\\lib\\site-packages\\requests\\adapters.py\", line 519, in send\n",
      "    raise ConnectionError(e, request=request)\n",
      "requests.exceptions.ConnectionError: HTTPSConnectionPool(host='upload.wikimedia.org', port=443): Max retries exceeded with url: /wikipedia/commons/a/a4/Pizza.jpg (Caused by NewConnectionError('<urllib3.connection.HTTPSConnection object at 0x0000021451F13430>: Failed to establish a new connection: [Errno 11001] getaddrinfo failed'))\n"
     ]
    },
    {
     "name": "stdout",
     "output_type": "stream",
     "text": [
      " Here is your input url:\n",
      " https://upload.wikimedia.org/wikipedia/commons/a/a4/Pizza.jpg\n"
     ]
    }
   ],
   "source": [
    "User_input = Entry()\n",
    "User_input.pack()\n",
    "button = Button(window, text = \"Detected Class :\", font = (\"Halvetica\", 16), command = Enter)\n",
    "button.pack()\n",
    "window.mainloop()"
   ]
  }
 ],
 "metadata": {
  "kernelspec": {
   "display_name": "Python 3 (ipykernel)",
   "language": "python",
   "name": "python3"
  },
  "language_info": {
   "codemirror_mode": {
    "name": "ipython",
    "version": 3
   },
   "file_extension": ".py",
   "mimetype": "text/x-python",
   "name": "python",
   "nbconvert_exporter": "python",
   "pygments_lexer": "ipython3",
   "version": "3.9.12"
  }
 },
 "nbformat": 4,
 "nbformat_minor": 5
}
