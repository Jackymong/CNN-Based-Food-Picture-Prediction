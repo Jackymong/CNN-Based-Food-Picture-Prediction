{
 "cells": [
  {
   "cell_type": "markdown",
   "id": "a2d4ef36",
   "metadata": {},
   "source": [
    "# Import Dependencies"
   ]
  },
  {
   "cell_type": "code",
   "execution_count": null,
   "id": "a26d782d",
   "metadata": {},
   "outputs": [],
   "source": [
    "import numpy as np  # Numerical Analysis\n",
    "import os # operating Systems\n",
    "from PIL import Image, ImageTk\n",
    "from io import BytesIO"
   ]
  },
  {
   "cell_type": "code",
   "execution_count": null,
   "id": "38823e6d",
   "metadata": {},
   "outputs": [],
   "source": [
    "import requests\n",
    "from tkinter import Tk, Label, Canvas, Entry, Button, NW"
   ]
  },
  {
   "cell_type": "code",
   "execution_count": null,
   "id": "f6f47ab4",
   "metadata": {},
   "outputs": [],
   "source": [
    "from keras.models import Sequential, load_model\n",
    "from keras.layers import Dense, MaxPooling2D, Flatten, Conv2D#Input, Hidden, Output Node\n",
    "from keras.preprocessing.image import ImageDataGenerator, load_img, img_to_array\n",
    "from keras.preprocessing import image as img_utils"
   ]
  },
  {
   "cell_type": "markdown",
   "id": "ef7ff3dd",
   "metadata": {},
   "source": [
    "# CNN Network"
   ]
  },
  {
   "cell_type": "code",
   "execution_count": null,
   "id": "e25eaa38",
   "metadata": {},
   "outputs": [],
   "source": [
    "model = Sequential()\n",
    "#Input Layer\n",
    "model.add(Conv2D(32, (3, 3), input_shape = (128, 128, 3), activation = 'relu'))\n",
    "model.add(MaxPooling2D(pool_size = (2, 2)))\n",
    "\n",
    "# 1st Hidden Layer\n",
    "model.add(Conv2D(64, (3, 3), activation = 'relu'))\n",
    "model.add(MaxPooling2D(pool_size = (2, 2)))\n",
    "\n",
    "# 2nd Hidden Layer\n",
    "model.add(Conv2D(128, (3, 3), activation = 'relu'))\n",
    "model.add(MaxPooling2D(pool_size = (2, 2)))\n",
    "\n",
    "# Bridge Layer\n",
    "model.add(Flatten())\n",
    "\n",
    "#Output Layer\n",
    "model.add(Dense(128, activation = 'relu'))\n",
    "model.add(Dense(3, activation = 'softmax'))"
   ]
  },
  {
   "cell_type": "markdown",
   "id": "b05589fe",
   "metadata": {},
   "source": [
    "# compile"
   ]
  },
  {
   "cell_type": "code",
   "execution_count": null,
   "id": "a097d853",
   "metadata": {},
   "outputs": [],
   "source": [
    "model.compile(optimizer='adam',\n",
    "             loss = 'categorical_crossentropy',\n",
    "             metrics = ['accuracy'])"
   ]
  },
  {
   "cell_type": "code",
   "execution_count": null,
   "id": "ad0c9e45",
   "metadata": {},
   "outputs": [],
   "source": [
    "train_datagenerator = ImageDataGenerator(rescale = 1.0/255.0,\n",
    "                                        shear_range = 0.2,\n",
    "                                        zoom_range = 0.2,\n",
    "                                        horizontal_flip = True)"
   ]
  },
  {
   "cell_type": "code",
   "execution_count": null,
   "id": "58e6fe0a",
   "metadata": {},
   "outputs": [],
   "source": [
    "test_datagenerator = ImageDataGenerator(rescale=1.0/255.0)"
   ]
  },
  {
   "cell_type": "code",
   "execution_count": null,
   "id": "cbce764f",
   "metadata": {},
   "outputs": [],
   "source": [
    "training_datasets = train_datagenerator.flow_from_directory(\"dataset/training_set/\", target_size= (128, 128), batch_size = 32, class_mode = \"categorical\")\n",
    "testing_datasets = test_datagenerator.flow_from_directory(\"dataset/test_set/\", target_size= (128, 128), batch_size = 32, class_mode = \"categorical\")"
   ]
  },
  {
   "cell_type": "code",
   "execution_count": null,
   "id": "08ba84cb",
   "metadata": {},
   "outputs": [],
   "source": [
    "model.fit(training_datasets, steps_per_epoch= 801/32, epochs = 10, validation_steps=200/32)"
   ]
  },
  {
   "cell_type": "code",
   "execution_count": null,
   "id": "cdb9ec7a-c0df-4168-96e0-f1014b4cde13",
   "metadata": {},
   "outputs": [],
   "source": [
    "model.save(\"Models/models.h5\")\n",
    "model.save_weights(\"Models/models_weight.h5\")"
   ]
  },
  {
   "cell_type": "code",
   "execution_count": null,
   "id": "69e50d12-8f6d-44e8-b2f4-20b252db0ce0",
   "metadata": {},
   "outputs": [],
   "source": [
    "image_height, image_weight = 128, 128\n",
    "models_locations = \"Models/models.h5\"\n",
    "models_weight_locations = \"Models/models_weight.h5\"\n",
    "\n",
    "final_model = load_model(models_locations)\n",
    "final_model.load_weights(models_weight_locations)"
   ]
  },
  {
   "cell_type": "code",
   "execution_count": null,
   "id": "ba5912c4-17d4-46f8-877c-a2522112ea0e",
   "metadata": {},
   "outputs": [],
   "source": [
    "url = '' # global Variable\n",
    "window = Tk()\n",
    "window.title(\"Image Classification With CNN\")\n",
    "window.geometry(\"800x800\")\n",
    "label = Label(window, text = \" Please Enter Your Coustom Image URL with the same Training image dot extension\", font = (\"Halvetica\", 16))\n",
    "label.pack()\n",
    "\n",
    "def Enter():\n",
    "    global url\n",
    "    label.configure()\n",
    "    url  = (User_input.get())\n",
    "    print(\" Here is your input url:\\n\", url)\n",
    "    \n",
    "    response = requests.get(url)\n",
    "    test_image = Image.open(BytesIO(response.content))\n",
    "    put_image = test_image.resize((80, 80))\n",
    "    test_image = test_image.resize((128, 128))\n",
    "    \n",
    "    img = ImageTk.PhotoImage(put_image)\n",
    "    pic = Label(image = img)\n",
    "    pic.pack()\n",
    "    \n",
    "    pic.image = img\n",
    "    test_image = img_utils.img_to_array(test_image)\n",
    "    test_image = np.expand_dims(test_image, axis=0)\n",
    "    \n",
    "    \n",
    "    results = model.predict_on_batch(test_image)\n",
    "    \n",
    "    if results[0][0] == 1:\n",
    "        res = \"French Fries\"\n",
    "    elif results[0][1] == 1:\n",
    "        res = \"Fizza\"\n",
    "    elif results[0][2] == 1:\n",
    "        res = \"Samossa\"\n",
    "    else:\n",
    "        res = \"Error\"\n",
    "        \n",
    "    output = Label(window, text = \"Predicted Class: \" + res, font = (\"Halvetica\", 16))\n",
    "    output.pack()"
   ]
  },
  {
   "cell_type": "markdown",
   "id": "2ab7b2b0",
   "metadata": {},
   "source": [
    "# input and predict"
   ]
  },
  {
   "cell_type": "code",
   "execution_count": null,
   "id": "bbb62b39-094b-4d4c-abab-55820028ce7b",
   "metadata": {},
   "outputs": [],
   "source": [
    "User_input = Entry()\n",
    "User_input.pack()\n",
    "button = Button(window, text = \"Detected Class :\", font = (\"Halvetica\", 16), command = Enter)\n",
    "button.pack()\n",
    "window.mainloop()"
   ]
  }
 ],
 "metadata": {
  "kernelspec": {
   "display_name": "Python 3 (ipykernel)",
   "language": "python",
   "name": "python3"
  },
  "language_info": {
   "codemirror_mode": {
    "name": "ipython",
    "version": 3
   },
   "file_extension": ".py",
   "mimetype": "text/x-python",
   "name": "python",
   "nbconvert_exporter": "python",
   "pygments_lexer": "ipython3",
   "version": "3.9.12"
  }
 },
 "nbformat": 4,
 "nbformat_minor": 5
}
